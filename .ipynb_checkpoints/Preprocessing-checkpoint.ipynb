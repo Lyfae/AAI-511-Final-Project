{
 "cells": [
  {
   "cell_type": "code",
   "execution_count": 100,
   "id": "f13274e2-c25d-4b74-8ebf-4c8c0c18b7e6",
   "metadata": {},
   "outputs": [],
   "source": [
    "import mido\n",
    "import os\n",
    "import string\n",
    "import matplotlib.pyplot as plt\n",
    "import numpy as np"
   ]
  },
  {
   "cell_type": "code",
   "execution_count": 101,
   "id": "3d67db43-0234-42f6-9509-c27f240c284a",
   "metadata": {},
   "outputs": [],
   "source": [
    "class MidiTranscriber():\n",
    "    def __init__(self):\n",
    "        pass\n",
    "    \n",
    "\n",
    "\n",
    "    def Sequence(self, track):\n",
    "        result = []\n",
    "        notes = {}\n",
    "        time = 0\n",
    "        final_result = []\n",
    "        data = [] \n",
    "        state = [0] * 128\n",
    "        tick_counter = 0\n",
    "        \n",
    "        tick_interval = 100\n",
    "        \n",
    "        for i in range(16):\n",
    "            data.append(state)\n",
    "            \n",
    "        for msg in track:\n",
    "            time += msg.time\n",
    "            tick_counter += msg.time\n",
    "            \n",
    "            if(tick_counter > tick_interval):\n",
    "                final_result.append(data)\n",
    "                tick_counter = 0\n",
    "            \n",
    "            if msg.type == 'note_on':\n",
    "                if msg.velocity != 0:\n",
    "                    past = notes.get(msg.note)\n",
    "                    if(past == None):\n",
    "                        past = []\n",
    "                    notes[msg.note] = past + [time , 1] \n",
    "                    result.append([time, msg.note, msg.velocity,  msg.channel, msg.type])\n",
    "                    data[msg.channel][msg.note] = msg.velocity\n",
    "                    \n",
    "                else:\n",
    "                    pass\n",
    "            if msg.type == 'note_off':\n",
    "                past = notes.get(msg.note)\n",
    "                if(past == None):\n",
    "                    past = []\n",
    "                notes[msg.note] = past + [time , 0]\n",
    "                result.append([time ,msg.note, msg.velocity ,  msg.channel, msg.type])\n",
    "                data[msg.channel][msg.note] = 0\n",
    "                \n",
    "        return result, data, final_result\n",
    "        \n",
    "        \n",
    "    def BuildArray(self,midi):\n",
    "        Lenghth = [len(tr) for tr in midi.tracks]\n",
    "        track_length = max(Lenghth)\n",
    "        min_track =  track_length/10 #Only accept tracks 1/10 of length.\n",
    "        all_arys = []\n",
    "        training = []\n",
    "        for track in range(len(midi.tracks)):\n",
    "            out = []\n",
    "            valid_track = (len(midi.tracks[track]) > min_track)\n",
    "            if(valid_track):\n",
    "                track = midi.tracks[track]\n",
    "                res, data, final_result = self.Sequence(track)\n",
    "                all_arys.append(res)\n",
    "                training.append(data)\n",
    "            \n",
    "        #sums = all_arys.sum(axis=1)\n",
    "        #ends = np.where(sums > 0)[0]\n",
    "        return all_arys, data, final_result\n",
    "\n",
    "        builder = []\n",
    "        \n",
    "        "
   ]
  },
  {
   "cell_type": "code",
   "execution_count": 102,
   "id": "ec8d03a2-23e8-4487-abc9-4aca18d39fd9",
   "metadata": {},
   "outputs": [],
   "source": [
    "scriber = MidiTranscriber()"
   ]
  },
  {
   "cell_type": "code",
   "execution_count": 113,
   "id": "727c4757-6fbb-4a01-b865-fffa4e885ba6",
   "metadata": {},
   "outputs": [],
   "source": [
    "def Parser(composer, path):\n",
    "    midis = os.listdir(path)\n",
    "    \n",
    "    pair = []\n",
    "    \n",
    "    for file in midis:\n",
    "        if(file == \".DS_Store\"):\n",
    "            continue \n",
    "        midis_path = path + \"/\" + file\n",
    "        #print(midis_path)\n",
    "        \n",
    "        midi = mido.MidiFile(midis_path)\n",
    "        #print(len(midi.tracks[0]) + len(midi.tracks[1]) + len(midi.tracks[2]))\n",
    "        #print(len(midi.tracks[0]))\n",
    "        arr, data, final_result = scriber.BuildArray(midi)\n",
    "        \n",
    "        x = final_result\n",
    "        y = composer\n",
    "        \n",
    "        pair.append([x,y])\n",
    "        \n",
    "        print(file)\n",
    "        \n",
    "    return arr, data, final_result, pair\n",
    "        \n"
   ]
  },
  {
   "cell_type": "code",
   "execution_count": 114,
   "id": "a38ea1d3-2dbd-4a8b-befc-2d2ec5edeeb5",
   "metadata": {},
   "outputs": [
    {
     "name": "stdout",
     "output_type": "stream",
     "text": [
      "bach342.mid\n",
      "bartok393.mid\n",
      "byrd149.mid\n",
      "chopin049.mid\n",
      "handel099.mid\n",
      "hummel292.mid\n",
      "mendelssohn243.mid\n",
      "mozart000.mid\n",
      "schumann199.mid\n"
     ]
    }
   ],
   "source": [
    "dataset = \"Composer_Dataset/NN_midi_files_extended/train\"\n",
    "composers = ['bach', 'bartok', 'byrd', 'chopin', 'handel', 'hummel', 'mendelssohn', 'mozart', 'schumann']\n",
    "\n",
    "pairs = []\n",
    "\n",
    "for composer in composers:\n",
    "    path = dataset +\"/\"+ composer\n",
    "    arr, data, final_result,pair = Parser(composer, path)\n",
    "    pairs.append(pair)\n",
    "    \n",
    "    \n",
    "    \n",
    "\n"
   ]
  },
  {
   "cell_type": "code",
   "execution_count": 115,
   "id": "fe511b66-dc6e-4c41-b760-64055302bf7c",
   "metadata": {},
   "outputs": [
    {
     "data": {
      "text/plain": [
       "(16, 128)"
      ]
     },
     "execution_count": 115,
     "metadata": {},
     "output_type": "execute_result"
    }
   ],
   "source": [
    "data = np.array(data)\n",
    "data.shape"
   ]
  },
  {
   "cell_type": "code",
   "execution_count": 106,
   "id": "c7de3604-c6e9-40cc-bacd-271ca02a6517",
   "metadata": {},
   "outputs": [],
   "source": [
    "final_result = np.array(final_result)"
   ]
  },
  {
   "cell_type": "code",
   "execution_count": 107,
   "id": "0bba6fbe-73d5-4ae7-9a38-d112634aa6ef",
   "metadata": {},
   "outputs": [
    {
     "data": {
      "text/plain": [
       "(4310, 16, 128)"
      ]
     },
     "execution_count": 107,
     "metadata": {},
     "output_type": "execute_result"
    }
   ],
   "source": [
    "final_result.shape"
   ]
  },
  {
   "cell_type": "code",
   "execution_count": 109,
   "id": "def01338-17be-4266-8517-a51028f4ae0a",
   "metadata": {},
   "outputs": [
    {
     "data": {
      "text/plain": [
       "1"
      ]
     },
     "execution_count": 109,
     "metadata": {},
     "output_type": "execute_result"
    }
   ],
   "source": [
    "len(pair)"
   ]
  },
  {
   "cell_type": "code",
   "execution_count": null,
   "id": "2b62ae14-e16a-4f3f-b679-c5e54784e1af",
   "metadata": {},
   "outputs": [],
   "source": []
  }
 ],
 "metadata": {
  "kernelspec": {
   "display_name": "Python 3 (ipykernel)",
   "language": "python",
   "name": "python3"
  },
  "language_info": {
   "codemirror_mode": {
    "name": "ipython",
    "version": 3
   },
   "file_extension": ".py",
   "mimetype": "text/x-python",
   "name": "python",
   "nbconvert_exporter": "python",
   "pygments_lexer": "ipython3",
   "version": "3.9.7"
  }
 },
 "nbformat": 4,
 "nbformat_minor": 5
}
