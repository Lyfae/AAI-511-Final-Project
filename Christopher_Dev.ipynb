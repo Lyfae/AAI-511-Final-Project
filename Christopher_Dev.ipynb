{
 "cells": [
  {
   "cell_type": "code",
   "execution_count": 1,
   "id": "e2fc2d70-98a0-4ed8-a5c7-ba4932693a9c",
   "metadata": {
    "tags": []
   },
   "outputs": [],
   "source": [
    "# Import libraries\n",
    "from mido import MidiFile, MidiTrack\n",
    "\n",
    "# Import file stuff\n",
    "import os\n",
    "\n",
    "# Import basic\n",
    "import pandas as pd\n",
    "import numpy as np"
   ]
  },
  {
   "cell_type": "code",
   "execution_count": 2,
   "id": "647247d3-0170-46e7-8de4-0e47dde33881",
   "metadata": {
    "tags": []
   },
   "outputs": [],
   "source": [
    "# Finding the notes, velocities, and duration from the midi file\n",
    "def process_midi_file(filepath):\n",
    "    # Create the midi object\n",
    "    midi = MidiFile(filepath)\n",
    "\n",
    "    # Empty lists to hold the values\n",
    "    notes = []\n",
    "    velocities = []\n",
    "    durations = []\n",
    "\n",
    "    # Iterate through the midi file via track\n",
    "    # Tack is a list of messages and meta messages that we can pull from\n",
    "    for track in midi.tracks:\n",
    "        time = 0\n",
    "\n",
    "        # Find the time when there is data\n",
    "        for msg in track:\n",
    "            time += msg.time\n",
    "            \n",
    "            # We only want to time it when the note is pressed\n",
    "            if msg.type == 'note_on':\n",
    "                notes.append(msg.note)\n",
    "                velocities.append(msg.velocity)\n",
    "                durations.append(time)\n",
    "                time = 0\n",
    "                \n",
    "            # While there isn't a note played, continue through the track\n",
    "            elif msg.type == 'note_off':\n",
    "                time += msg.time\n",
    "\n",
    "    return notes, velocities, durations"
   ]
  },
  {
   "cell_type": "code",
   "execution_count": 3,
   "id": "f68a6d98-54e9-4a5e-be54-c2aabc165ff3",
   "metadata": {
    "tags": []
   },
   "outputs": [],
   "source": [
    "filepath = './Composer_Dataset/NN_midi_files_extended/dev/bach/bach344.mid'\n",
    "notes, velocities, durations = process_midi_file(filepath)"
   ]
  },
  {
   "cell_type": "code",
   "execution_count": 4,
   "id": "b888703b-6349-4957-97e6-ef64837f2b28",
   "metadata": {
    "tags": []
   },
   "outputs": [],
   "source": [
    "def get_children(a_dir):\n",
    "    dirs = []\n",
    "    files = []\n",
    "    for name in os.listdir(a_dir):\n",
    "        if os.path.isdir(os.path.join(a_dir, name)):\n",
    "            dirs.append(name)\n",
    "        else:\n",
    "            files.append(name)\n",
    "    return [dirs,files]\n",
    "\n",
    "def create_files_table(top_level, out_file):\n",
    "    temp_comps = []\n",
    "    temp_songs = []\n",
    "    temp_paths = []\n",
    "    \n",
    "    composer_names, songs = get_children(top_level)\n",
    "\n",
    "    for composer in composer_names:\n",
    "        temp_path = top_level + '/' + composer\n",
    "        temp, songs = get_children(temp_path)\n",
    "        for song in songs:\n",
    "            if song != '.DS_Store':\n",
    "                temp_comps.append(composer)\n",
    "                temp_paths.append(temp_path + '/' + song)\n",
    "                temp_songs.append(song.split(\".\")[0])\n",
    "\n",
    "    temp_dict = {'Composers': temp_comps, 'Songs': temp_songs, 'Paths': temp_paths}\n",
    "\n",
    "    table = pd.DataFrame.from_dict(temp_dict)\n",
    "\n",
    "    table.to_csv('./' + out_file + '.csv',index=False)\n",
    "    \n",
    "    return table"
   ]
  },
  {
   "cell_type": "code",
   "execution_count": 5,
   "id": "cac8eff8-43ca-442e-a5f2-719cb1c7c2ad",
   "metadata": {
    "tags": []
   },
   "outputs": [],
   "source": [
    "devpath = './Composer_Dataset/NN_midi_files_extended/dev/'\n",
    "testpath = './Composer_Dataset/NN_midi_files_extended/test/'\n",
    "trainpath = './Composer_Dataset/NN_midi_files_extended/train/'\n",
    "\n",
    "dev_table = create_files_table(devpath, 'dev_table')\n",
    "test_table = create_files_table(testpath, 'test_table')\n",
    "train_table = create_files_table(trainpath, 'train_table')"
   ]
  },
  {
   "cell_type": "code",
   "execution_count": 6,
   "id": "3a68048a-a287-47db-a625-ca95dfe565e0",
   "metadata": {
    "tags": []
   },
   "outputs": [
    {
     "data": {
      "text/html": [
       "<div>\n",
       "<style scoped>\n",
       "    .dataframe tbody tr th:only-of-type {\n",
       "        vertical-align: middle;\n",
       "    }\n",
       "\n",
       "    .dataframe tbody tr th {\n",
       "        vertical-align: top;\n",
       "    }\n",
       "\n",
       "    .dataframe thead th {\n",
       "        text-align: right;\n",
       "    }\n",
       "</style>\n",
       "<table border=\"1\" class=\"dataframe\">\n",
       "  <thead>\n",
       "    <tr style=\"text-align: right;\">\n",
       "      <th></th>\n",
       "      <th>Composers</th>\n",
       "      <th>Songs</th>\n",
       "      <th>Paths</th>\n",
       "    </tr>\n",
       "  </thead>\n",
       "  <tbody>\n",
       "    <tr>\n",
       "      <th>0</th>\n",
       "      <td>bach</td>\n",
       "      <td>bach344</td>\n",
       "      <td>./Composer_Dataset/NN_midi_files_extended/dev/...</td>\n",
       "    </tr>\n",
       "    <tr>\n",
       "      <th>1</th>\n",
       "      <td>bach</td>\n",
       "      <td>bach348</td>\n",
       "      <td>./Composer_Dataset/NN_midi_files_extended/dev/...</td>\n",
       "    </tr>\n",
       "    <tr>\n",
       "      <th>2</th>\n",
       "      <td>bach</td>\n",
       "      <td>bach354</td>\n",
       "      <td>./Composer_Dataset/NN_midi_files_extended/dev/...</td>\n",
       "    </tr>\n",
       "    <tr>\n",
       "      <th>3</th>\n",
       "      <td>bach</td>\n",
       "      <td>bach384</td>\n",
       "      <td>./Composer_Dataset/NN_midi_files_extended/dev/...</td>\n",
       "    </tr>\n",
       "    <tr>\n",
       "      <th>4</th>\n",
       "      <td>bartok</td>\n",
       "      <td>bartok410</td>\n",
       "      <td>./Composer_Dataset/NN_midi_files_extended/dev/...</td>\n",
       "    </tr>\n",
       "  </tbody>\n",
       "</table>\n",
       "</div>"
      ],
      "text/plain": [
       "  Composers      Songs                                              Paths\n",
       "0      bach    bach344  ./Composer_Dataset/NN_midi_files_extended/dev/...\n",
       "1      bach    bach348  ./Composer_Dataset/NN_midi_files_extended/dev/...\n",
       "2      bach    bach354  ./Composer_Dataset/NN_midi_files_extended/dev/...\n",
       "3      bach    bach384  ./Composer_Dataset/NN_midi_files_extended/dev/...\n",
       "4    bartok  bartok410  ./Composer_Dataset/NN_midi_files_extended/dev/..."
      ]
     },
     "execution_count": 6,
     "metadata": {},
     "output_type": "execute_result"
    }
   ],
   "source": [
    "dev_table.head()"
   ]
  },
  {
   "cell_type": "code",
   "execution_count": 37,
   "id": "56b3b54d-70dc-428a-b492-52cb978d0032",
   "metadata": {
    "tags": []
   },
   "outputs": [],
   "source": [
    "def process_midi_file_enhanced(filepath, composer, song_name):\n",
    "    # number of channels possible in midi file\n",
    "    num_channels = 16\n",
    "    midi = MidiFile(filepath)\n",
    "\n",
    "    notes = []\n",
    "    velocities = []\n",
    "    start_note = []\n",
    "    stop_note = []\n",
    "    is_on = []\n",
    "    channel = []\n",
    "\n",
    "    for track in midi.tracks:\n",
    "        time = np.zeros(num_channels)\n",
    "        for msg in track:\n",
    "            if msg.type in ['note_on', 'note_off']:\n",
    "                notes.append(msg.note)\n",
    "                velocities.append(msg.velocity)\n",
    "                start_note.append(time[msg.channel])\n",
    "                time[msg.channel] += msg.time\n",
    "                stop_note.append(time[msg.channel])\n",
    "                channel.append(msg.channel)\n",
    "            if msg.type == 'note_on':\n",
    "                is_on.append(1)\n",
    "            elif msg.type == 'note_off':\n",
    "                is_on.append(0)\n",
    "    \n",
    "    temp_dict = {'note': notes, 'velocity': velocities, 'start_note': start_note, \n",
    "             'stop_note': stop_note, 'is_on': is_on, 'channel': channel}\n",
    "    temp_pd = pd.DataFrame.from_dict(temp_dict)\n",
    "    temp_pd['composer'] = composer\n",
    "    temp_pd['song_name'] = song_name\n",
    "\n",
    "    return temp_pd"
   ]
  },
  {
   "cell_type": "code",
   "execution_count": 8,
   "id": "85f12536-0c34-463d-a263-fa03b163fff5",
   "metadata": {
    "tags": []
   },
   "outputs": [],
   "source": [
    "filepath = './Composer_Dataset/NN_midi_files_extended/dev/bach/bach344.mid'\n",
    "midi = MidiFile(filepath)"
   ]
  },
  {
   "cell_type": "code",
   "execution_count": 54,
   "id": "c88d42cf-6fbc-4b5d-8be2-01a08667e42c",
   "metadata": {
    "tags": []
   },
   "outputs": [],
   "source": [
    "msg= midi.tracks[1]"
   ]
  },
  {
   "cell_type": "code",
   "execution_count": 46,
   "id": "7721a4b8-522f-4f29-8757-ce794ee3064b",
   "metadata": {
    "tags": []
   },
   "outputs": [],
   "source": [
    "exp = []\n",
    "for row in dev_table.iterrows():\n",
    "    temp_pd = process_midi_file_enhanced(row[1]['Paths'], row[1]['Composers'], row[1]['Songs'])\n",
    "    exp.append(temp_pd)\n"
   ]
  },
  {
   "cell_type": "code",
   "execution_count": 50,
   "id": "51b50574-a18d-44fd-ab8f-2a5fac20012d",
   "metadata": {
    "tags": []
   },
   "outputs": [],
   "source": [
    "df_final = pd.concat(exp,ignore_index=True)    "
   ]
  },
  {
   "cell_type": "code",
   "execution_count": 51,
   "id": "4b0ecaae-f4f3-47f6-b233-00aa7db4c3d3",
   "metadata": {
    "tags": []
   },
   "outputs": [
    {
     "data": {
      "text/html": [
       "<div>\n",
       "<style scoped>\n",
       "    .dataframe tbody tr th:only-of-type {\n",
       "        vertical-align: middle;\n",
       "    }\n",
       "\n",
       "    .dataframe tbody tr th {\n",
       "        vertical-align: top;\n",
       "    }\n",
       "\n",
       "    .dataframe thead th {\n",
       "        text-align: right;\n",
       "    }\n",
       "</style>\n",
       "<table border=\"1\" class=\"dataframe\">\n",
       "  <thead>\n",
       "    <tr style=\"text-align: right;\">\n",
       "      <th></th>\n",
       "      <th>note</th>\n",
       "      <th>velocity</th>\n",
       "      <th>start_note</th>\n",
       "      <th>stop_note</th>\n",
       "      <th>is_on</th>\n",
       "      <th>channel</th>\n",
       "      <th>composer</th>\n",
       "      <th>song_name</th>\n",
       "    </tr>\n",
       "  </thead>\n",
       "  <tbody>\n",
       "    <tr>\n",
       "      <th>0</th>\n",
       "      <td>43</td>\n",
       "      <td>127</td>\n",
       "      <td>0.0</td>\n",
       "      <td>88.0</td>\n",
       "      <td>1</td>\n",
       "      <td>7</td>\n",
       "      <td>bach</td>\n",
       "      <td>bach344</td>\n",
       "    </tr>\n",
       "    <tr>\n",
       "      <th>1</th>\n",
       "      <td>62</td>\n",
       "      <td>127</td>\n",
       "      <td>0.0</td>\n",
       "      <td>177.0</td>\n",
       "      <td>1</td>\n",
       "      <td>2</td>\n",
       "      <td>bach</td>\n",
       "      <td>bach344</td>\n",
       "    </tr>\n",
       "    <tr>\n",
       "      <th>2</th>\n",
       "      <td>62</td>\n",
       "      <td>127</td>\n",
       "      <td>177.0</td>\n",
       "      <td>350.0</td>\n",
       "      <td>0</td>\n",
       "      <td>2</td>\n",
       "      <td>bach</td>\n",
       "      <td>bach344</td>\n",
       "    </tr>\n",
       "    <tr>\n",
       "      <th>3</th>\n",
       "      <td>64</td>\n",
       "      <td>127</td>\n",
       "      <td>0.0</td>\n",
       "      <td>5.0</td>\n",
       "      <td>1</td>\n",
       "      <td>4</td>\n",
       "      <td>bach</td>\n",
       "      <td>bach344</td>\n",
       "    </tr>\n",
       "    <tr>\n",
       "      <th>4</th>\n",
       "      <td>64</td>\n",
       "      <td>127</td>\n",
       "      <td>5.0</td>\n",
       "      <td>178.0</td>\n",
       "      <td>0</td>\n",
       "      <td>4</td>\n",
       "      <td>bach</td>\n",
       "      <td>bach344</td>\n",
       "    </tr>\n",
       "    <tr>\n",
       "      <th>...</th>\n",
       "      <td>...</td>\n",
       "      <td>...</td>\n",
       "      <td>...</td>\n",
       "      <td>...</td>\n",
       "      <td>...</td>\n",
       "      <td>...</td>\n",
       "      <td>...</td>\n",
       "      <td>...</td>\n",
       "    </tr>\n",
       "    <tr>\n",
       "      <th>221523</th>\n",
       "      <td>38</td>\n",
       "      <td>64</td>\n",
       "      <td>165376.0</td>\n",
       "      <td>165376.0</td>\n",
       "      <td>1</td>\n",
       "      <td>0</td>\n",
       "      <td>schumann</td>\n",
       "      <td>schumann238</td>\n",
       "    </tr>\n",
       "    <tr>\n",
       "      <th>221524</th>\n",
       "      <td>26</td>\n",
       "      <td>0</td>\n",
       "      <td>165376.0</td>\n",
       "      <td>166400.0</td>\n",
       "      <td>0</td>\n",
       "      <td>0</td>\n",
       "      <td>schumann</td>\n",
       "      <td>schumann238</td>\n",
       "    </tr>\n",
       "    <tr>\n",
       "      <th>221525</th>\n",
       "      <td>38</td>\n",
       "      <td>0</td>\n",
       "      <td>166400.0</td>\n",
       "      <td>166400.0</td>\n",
       "      <td>0</td>\n",
       "      <td>0</td>\n",
       "      <td>schumann</td>\n",
       "      <td>schumann238</td>\n",
       "    </tr>\n",
       "    <tr>\n",
       "      <th>221526</th>\n",
       "      <td>66</td>\n",
       "      <td>0</td>\n",
       "      <td>166400.0</td>\n",
       "      <td>166912.0</td>\n",
       "      <td>0</td>\n",
       "      <td>0</td>\n",
       "      <td>schumann</td>\n",
       "      <td>schumann238</td>\n",
       "    </tr>\n",
       "    <tr>\n",
       "      <th>221527</th>\n",
       "      <td>69</td>\n",
       "      <td>0</td>\n",
       "      <td>166912.0</td>\n",
       "      <td>166912.0</td>\n",
       "      <td>0</td>\n",
       "      <td>0</td>\n",
       "      <td>schumann</td>\n",
       "      <td>schumann238</td>\n",
       "    </tr>\n",
       "  </tbody>\n",
       "</table>\n",
       "<p>221528 rows × 8 columns</p>\n",
       "</div>"
      ],
      "text/plain": [
       "        note  velocity  start_note  stop_note  is_on  channel  composer  \\\n",
       "0         43       127         0.0       88.0      1        7      bach   \n",
       "1         62       127         0.0      177.0      1        2      bach   \n",
       "2         62       127       177.0      350.0      0        2      bach   \n",
       "3         64       127         0.0        5.0      1        4      bach   \n",
       "4         64       127         5.0      178.0      0        4      bach   \n",
       "...      ...       ...         ...        ...    ...      ...       ...   \n",
       "221523    38        64    165376.0   165376.0      1        0  schumann   \n",
       "221524    26         0    165376.0   166400.0      0        0  schumann   \n",
       "221525    38         0    166400.0   166400.0      0        0  schumann   \n",
       "221526    66         0    166400.0   166912.0      0        0  schumann   \n",
       "221527    69         0    166912.0   166912.0      0        0  schumann   \n",
       "\n",
       "          song_name  \n",
       "0           bach344  \n",
       "1           bach344  \n",
       "2           bach344  \n",
       "3           bach344  \n",
       "4           bach344  \n",
       "...             ...  \n",
       "221523  schumann238  \n",
       "221524  schumann238  \n",
       "221525  schumann238  \n",
       "221526  schumann238  \n",
       "221527  schumann238  \n",
       "\n",
       "[221528 rows x 8 columns]"
      ]
     },
     "execution_count": 51,
     "metadata": {},
     "output_type": "execute_result"
    }
   ],
   "source": [
    "df_final"
   ]
  },
  {
   "cell_type": "code",
   "execution_count": 52,
   "id": "069ab926-8e5b-41d3-a25d-0f35a269b1a5",
   "metadata": {
    "tags": []
   },
   "outputs": [
    {
     "data": {
      "text/plain": [
       "note                 66\n",
       "velocity            119\n",
       "start_note    1402800.0\n",
       "stop_note     1402920.0\n",
       "is_on                 0\n",
       "channel               0\n",
       "composer         hummel\n",
       "song_name     hummel327\n",
       "Name: 129480, dtype: object"
      ]
     },
     "execution_count": 52,
     "metadata": {},
     "output_type": "execute_result"
    }
   ],
   "source": [
    "df_final.iloc[df_final['stop_note'].idxmax()] "
   ]
  },
  {
   "cell_type": "code",
   "execution_count": 53,
   "id": "9ba4e545-9372-4be0-8861-e09dba3dcd1e",
   "metadata": {
    "tags": []
   },
   "outputs": [],
   "source": [
    "df_final.to_csv('./notes_table_dev.csv')"
   ]
  }
 ],
 "metadata": {
  "kernelspec": {
   "display_name": "Python [conda env:tensorflow] *",
   "language": "python",
   "name": "conda-env-tensorflow-py"
  },
  "language_info": {
   "codemirror_mode": {
    "name": "ipython",
    "version": 3
   },
   "file_extension": ".py",
   "mimetype": "text/x-python",
   "name": "python",
   "nbconvert_exporter": "python",
   "pygments_lexer": "ipython3",
   "version": "3.9.16"
  }
 },
 "nbformat": 4,
 "nbformat_minor": 5
}
