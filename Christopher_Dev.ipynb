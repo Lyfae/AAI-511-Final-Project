{
 "cells": [
  {
   "cell_type": "code",
   "execution_count": 1,
   "id": "e2fc2d70-98a0-4ed8-a5c7-ba4932693a9c",
   "metadata": {
    "tags": []
   },
   "outputs": [],
   "source": [
    "# Import libraries\n",
    "from mido import MidiFile, MidiTrack\n",
    "\n",
    "# Import file stuff\n",
    "import os\n",
    "\n",
    "# Import basic\n",
    "import pandas as pd\n",
    "import numpy as np\n",
    "\n",
    "import mido\n",
    "import matplotlib.pyplot as plt\n",
    "import random"
   ]
  },
  {
   "cell_type": "code",
   "execution_count": 44,
   "id": "b888703b-6349-4957-97e6-ef64837f2b28",
   "metadata": {
    "tags": []
   },
   "outputs": [],
   "source": [
    "def get_children(a_dir):\n",
    "    dirs = []\n",
    "    files = []\n",
    "    for name in os.listdir(a_dir):\n",
    "        if os.path.isdir(os.path.join(a_dir, name)):\n",
    "            dirs.append(name)\n",
    "        else:\n",
    "            files.append(name)\n",
    "    return [dirs,files]\n",
    "\n",
    "def create_files_table(top_level, out_file):\n",
    "    temp_comps = []\n",
    "    temp_songs = []\n",
    "    temp_paths = []\n",
    "    \n",
    "    composer_names, songs = get_children(top_level)\n",
    "\n",
    "    for composer in composer_names:\n",
    "        temp_path = top_level + '/' + composer\n",
    "        temp, songs = get_children(temp_path)\n",
    "        for song in songs:\n",
    "            if song != '.DS_Store':\n",
    "                temp_comps.append(composer)\n",
    "                temp_paths.append(temp_path + '/' + song)\n",
    "                temp_songs.append(song.split(\".\")[0])\n",
    "\n",
    "    temp_dict = {'Composers': temp_comps, 'Songs': temp_songs, 'Paths': temp_paths}\n",
    "\n",
    "    table = pd.DataFrame.from_dict(temp_dict)\n",
    "\n",
    "    table.to_csv('./' + out_file + '.csv',index=False)\n",
    "    \n",
    "    return table"
   ]
  },
  {
   "cell_type": "code",
   "execution_count": 45,
   "id": "cac8eff8-43ca-442e-a5f2-719cb1c7c2ad",
   "metadata": {
    "tags": []
   },
   "outputs": [],
   "source": [
    "devpath = './Composer_Dataset/NN_midi_files_extended/dev/'\n",
    "testpath = './Composer_Dataset/NN_midi_files_extended/test/'\n",
    "trainpath = './Composer_Dataset/NN_midi_files_extended/train/'\n",
    "\n",
    "dev_table = create_files_table(devpath, 'dev_table')\n",
    "test_table = create_files_table(testpath, 'test_table')\n",
    "train_table = create_files_table(trainpath, 'train_table')"
   ]
  },
  {
   "cell_type": "markdown",
   "id": "8e70c491-e707-49f2-95e3-0b1ce081d729",
   "metadata": {
    "tags": []
   },
   "source": [
    "## Start Here"
   ]
  },
  {
   "cell_type": "code",
   "execution_count": 74,
   "id": "ccc1fc25-94b8-499b-8a1c-88222a7e5f90",
   "metadata": {
    "tags": []
   },
   "outputs": [],
   "source": [
    "# Function to extract the notes played in a MIDI file with timestamps\n",
    "def extract_notes_with_meta(midi_filepath):\n",
    "    notes = {}\n",
    "    midi = mido.MidiFile(midi_filepath)\n",
    "    max_time = 0\n",
    "    time_counter = 0\n",
    "    for track in midi.tracks:\n",
    "        max_time = max(max_time,time_counter)\n",
    "        time_counter = 0\n",
    "        for msg in track:\n",
    "            time_counter += msg.time\n",
    "            \n",
    "            if msg.type == 'note_on':\n",
    "                if msg.velocity != 0:  # Ensure it's a Note On event\n",
    "                    notes[msg.note] = notes.get(msg.note, []) + [(msg.velocity, time_counter, 1)]  # 1 represents Note On\n",
    "            elif msg.type == 'note_off':\n",
    "                notes[msg.note] = notes.get(msg.note, []) + [(msg.velocity,time_counter, 0)]  # 0 represents Note Off\n",
    "                \n",
    "    return notes, max_time\n",
    "\n",
    "\n",
    "def create_single_sequences(notes, start, tick_count, seq_count): \n",
    "    VEL = 0\n",
    "    TM = 1\n",
    "    ON = 2\n",
    "    \n",
    "    temp_keys = notes.keys()\n",
    "\n",
    "    seq =  [[0] * 128]* 100\n",
    "    seq = np.array(seq)\n",
    "\n",
    "    for x in temp_keys:\n",
    "        temp_note = np.array(notes[x])\n",
    "        time_store = 0\n",
    "        for i in range(start, seq_count+start):\n",
    "            temp_vel = 0\n",
    "            for t in range(time_store,temp_note[:,TM].size):\n",
    "                if (temp_note[t,TM]>tick_count*i):\n",
    "                    break\n",
    "                else:\n",
    "                    if temp_note[t,ON] == 1:\n",
    "                        if temp_note[t,VEL] > temp_vel:\n",
    "                            temp_vel = temp_note[t,VEL]\n",
    "                time_store = t\n",
    "            seq[i-start,x] = temp_vel\n",
    "    return seq\n",
    "\n",
    "def sequence_songs(df_songs, tick_count, seq_count):\n",
    "    labels = []\n",
    "    sequences = []\n",
    "    \n",
    "    for song in df_songs.iterrows():\n",
    "        song = song[1]\n",
    "        notes, max_time = extract_notes_with_meta(song['Paths'])\n",
    "        for i in range(int(max_time/(seq_count*tick_count))):\n",
    "            sequences.append(create_single_sequences(notes, i*seq_count, tick_count, seq_count))\n",
    "            labels.append(song['Composers'])\n",
    "    return labels, sequences"
   ]
  },
  {
   "cell_type": "code",
   "execution_count": 72,
   "id": "e87bf2c0-a49a-4d1f-87f1-a95a9ec718cc",
   "metadata": {
    "tags": []
   },
   "outputs": [],
   "source": [
    "midi_file_path = './Composer_Dataset/NN_midi_files_extended/dev/bach/bach344.mid'\n",
    "notes, max_time = extract_notes_with_meta(midi_file_path)\n",
    "\n",
    "new_seq = create_sequences(notes, 100, 200, 100)"
   ]
  },
  {
   "cell_type": "code",
   "execution_count": 34,
   "id": "3225b5af-89ad-4fc2-9f79-58441ca8882d",
   "metadata": {
    "tags": []
   },
   "outputs": [
    {
     "data": {
      "text/plain": [
       "array([  0,   0,   0,   0,   0,   0,   0,   0,   0,   0,   0,   0,   0,\n",
       "         0,   0,   0,   0,   0,   0,   0,   0,   0,   0,   0,   0,   0,\n",
       "         0,   0,   0,   0,   0,   0,   0,   0,   0,   0,   0,   0,   0,\n",
       "         0,   0,   0,   0,   0,   0,   0,   0, 127,   0,   0,   0,   0,\n",
       "         0,   0,   0,   0,   0,   0,   0,   0,   0,   0,   0,   0,   0,\n",
       "         0,   0,   0,   0,   0,   0,   0,   0,   0, 127,   0,   0, 127,\n",
       "         0,   0,   0,   0,   0,   0,   0,   0,   0,   0,   0,   0,   0,\n",
       "         0,   0,   0,   0,   0,   0,   0,   0,   0,   0,   0,   0,   0,\n",
       "         0,   0,   0,   0,   0,   0,   0,   0,   0,   0,   0,   0,   0,\n",
       "         0,   0,   0,   0,   0,   0,   0,   0,   0,   0,   0])"
      ]
     },
     "execution_count": 34,
     "metadata": {},
     "output_type": "execute_result"
    }
   ],
   "source": [
    "new_seq[99,:]"
   ]
  },
  {
   "cell_type": "code",
   "execution_count": 42,
   "id": "3003727c-edd1-4ff5-910b-945b145ee45e",
   "metadata": {
    "tags": []
   },
   "outputs": [
    {
     "data": {
      "text/plain": [
       "69120"
      ]
     },
     "execution_count": 42,
     "metadata": {},
     "output_type": "execute_result"
    }
   ],
   "source": [
    "max_time"
   ]
  },
  {
   "cell_type": "code",
   "execution_count": 46,
   "id": "aaccdda5-33f7-4a2a-a89e-dde94e7f5cee",
   "metadata": {
    "tags": []
   },
   "outputs": [
    {
     "data": {
      "text/html": [
       "<div>\n",
       "<style scoped>\n",
       "    .dataframe tbody tr th:only-of-type {\n",
       "        vertical-align: middle;\n",
       "    }\n",
       "\n",
       "    .dataframe tbody tr th {\n",
       "        vertical-align: top;\n",
       "    }\n",
       "\n",
       "    .dataframe thead th {\n",
       "        text-align: right;\n",
       "    }\n",
       "</style>\n",
       "<table border=\"1\" class=\"dataframe\">\n",
       "  <thead>\n",
       "    <tr style=\"text-align: right;\">\n",
       "      <th></th>\n",
       "      <th>Composers</th>\n",
       "      <th>Songs</th>\n",
       "      <th>Paths</th>\n",
       "    </tr>\n",
       "  </thead>\n",
       "  <tbody>\n",
       "    <tr>\n",
       "      <th>0</th>\n",
       "      <td>bach</td>\n",
       "      <td>bach342</td>\n",
       "      <td>./Composer_Dataset/NN_midi_files_extended/trai...</td>\n",
       "    </tr>\n",
       "    <tr>\n",
       "      <th>1</th>\n",
       "      <td>bach</td>\n",
       "      <td>bach343</td>\n",
       "      <td>./Composer_Dataset/NN_midi_files_extended/trai...</td>\n",
       "    </tr>\n",
       "    <tr>\n",
       "      <th>2</th>\n",
       "      <td>bach</td>\n",
       "      <td>bach345</td>\n",
       "      <td>./Composer_Dataset/NN_midi_files_extended/trai...</td>\n",
       "    </tr>\n",
       "    <tr>\n",
       "      <th>3</th>\n",
       "      <td>bach</td>\n",
       "      <td>bach346</td>\n",
       "      <td>./Composer_Dataset/NN_midi_files_extended/trai...</td>\n",
       "    </tr>\n",
       "    <tr>\n",
       "      <th>4</th>\n",
       "      <td>bach</td>\n",
       "      <td>bach347</td>\n",
       "      <td>./Composer_Dataset/NN_midi_files_extended/trai...</td>\n",
       "    </tr>\n",
       "    <tr>\n",
       "      <th>...</th>\n",
       "      <td>...</td>\n",
       "      <td>...</td>\n",
       "      <td>...</td>\n",
       "    </tr>\n",
       "    <tr>\n",
       "      <th>364</th>\n",
       "      <td>schumann</td>\n",
       "      <td>schumann236</td>\n",
       "      <td>./Composer_Dataset/NN_midi_files_extended/trai...</td>\n",
       "    </tr>\n",
       "    <tr>\n",
       "      <th>365</th>\n",
       "      <td>schumann</td>\n",
       "      <td>schumann237</td>\n",
       "      <td>./Composer_Dataset/NN_midi_files_extended/trai...</td>\n",
       "    </tr>\n",
       "    <tr>\n",
       "      <th>366</th>\n",
       "      <td>schumann</td>\n",
       "      <td>schumann239</td>\n",
       "      <td>./Composer_Dataset/NN_midi_files_extended/trai...</td>\n",
       "    </tr>\n",
       "    <tr>\n",
       "      <th>367</th>\n",
       "      <td>schumann</td>\n",
       "      <td>schumann241</td>\n",
       "      <td>./Composer_Dataset/NN_midi_files_extended/trai...</td>\n",
       "    </tr>\n",
       "    <tr>\n",
       "      <th>368</th>\n",
       "      <td>schumann</td>\n",
       "      <td>schumann242</td>\n",
       "      <td>./Composer_Dataset/NN_midi_files_extended/trai...</td>\n",
       "    </tr>\n",
       "  </tbody>\n",
       "</table>\n",
       "<p>369 rows × 3 columns</p>\n",
       "</div>"
      ],
      "text/plain": [
       "    Composers        Songs                                              Paths\n",
       "0        bach      bach342  ./Composer_Dataset/NN_midi_files_extended/trai...\n",
       "1        bach      bach343  ./Composer_Dataset/NN_midi_files_extended/trai...\n",
       "2        bach      bach345  ./Composer_Dataset/NN_midi_files_extended/trai...\n",
       "3        bach      bach346  ./Composer_Dataset/NN_midi_files_extended/trai...\n",
       "4        bach      bach347  ./Composer_Dataset/NN_midi_files_extended/trai...\n",
       "..        ...          ...                                                ...\n",
       "364  schumann  schumann236  ./Composer_Dataset/NN_midi_files_extended/trai...\n",
       "365  schumann  schumann237  ./Composer_Dataset/NN_midi_files_extended/trai...\n",
       "366  schumann  schumann239  ./Composer_Dataset/NN_midi_files_extended/trai...\n",
       "367  schumann  schumann241  ./Composer_Dataset/NN_midi_files_extended/trai...\n",
       "368  schumann  schumann242  ./Composer_Dataset/NN_midi_files_extended/trai...\n",
       "\n",
       "[369 rows x 3 columns]"
      ]
     },
     "execution_count": 46,
     "metadata": {},
     "output_type": "execute_result"
    }
   ],
   "source": [
    "train_table"
   ]
  },
  {
   "cell_type": "code",
   "execution_count": 87,
   "id": "1f137a69-d4de-4064-b825-425652f65fb6",
   "metadata": {
    "tags": []
   },
   "outputs": [],
   "source": [
    "labels, sequences = sequence_songs(train_table, 200, 50)"
   ]
  },
  {
   "cell_type": "code",
   "execution_count": 89,
   "id": "4647260c-ce68-4392-a903-67477e93368c",
   "metadata": {
    "tags": []
   },
   "outputs": [
    {
     "data": {
      "text/plain": [
       "100"
      ]
     },
     "execution_count": 89,
     "metadata": {},
     "output_type": "execute_result"
    }
   ],
   "source": [
    "len(sequences[0])"
   ]
  },
  {
   "cell_type": "code",
   "execution_count": null,
   "id": "f3107f7f-2896-45ad-99fc-cebfde652ac8",
   "metadata": {},
   "outputs": [],
   "source": []
  }
 ],
 "metadata": {
  "kernelspec": {
   "display_name": "Python 3 (ipykernel)",
   "language": "python",
   "name": "python3"
  },
  "language_info": {
   "codemirror_mode": {
    "name": "ipython",
    "version": 3
   },
   "file_extension": ".py",
   "mimetype": "text/x-python",
   "name": "python",
   "nbconvert_exporter": "python",
   "pygments_lexer": "ipython3",
   "version": "3.9.16"
  }
 },
 "nbformat": 4,
 "nbformat_minor": 5
}
