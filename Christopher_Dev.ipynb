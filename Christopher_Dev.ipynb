{
 "cells": [
  {
   "cell_type": "code",
   "execution_count": 39,
   "id": "e2fc2d70-98a0-4ed8-a5c7-ba4932693a9c",
   "metadata": {
    "tags": []
   },
   "outputs": [],
   "source": [
    "# Import libraries\n",
    "from mido import MidiFile, MidiTrack\n",
    "\n",
    "# Import file stuff\n",
    "import os\n",
    "\n",
    "# Import basic\n",
    "import pandas as pd"
   ]
  },
  {
   "cell_type": "code",
   "execution_count": 4,
   "id": "647247d3-0170-46e7-8de4-0e47dde33881",
   "metadata": {
    "tags": []
   },
   "outputs": [],
   "source": [
    "def process_midi_file(filepath):\n",
    "    midi = MidiFile(filepath)\n",
    "\n",
    "    notes = []\n",
    "    velocities = []\n",
    "    durations = []\n",
    "\n",
    "    for track in midi.tracks:\n",
    "        time = 0\n",
    "        for msg in track:\n",
    "            time += msg.time\n",
    "\n",
    "            if msg.type == 'note_on':\n",
    "                notes.append(msg.note)\n",
    "                velocities.append(msg.velocity)\n",
    "                durations.append(time)\n",
    "                time = 0\n",
    "            elif msg.type == 'note_off':\n",
    "                time += msg.time\n",
    "\n",
    "    return notes, velocities, durations"
   ]
  },
  {
   "cell_type": "code",
   "execution_count": 6,
   "id": "f68a6d98-54e9-4a5e-be54-c2aabc165ff3",
   "metadata": {
    "tags": []
   },
   "outputs": [],
   "source": [
    "filepath = './Composer_Dataset/NN_midi_files_extended/dev/bach/bach344.mid'\n",
    "notes, velocities, durations = process_midi_file(filepath)"
   ]
  },
  {
   "cell_type": "code",
   "execution_count": 76,
   "id": "b888703b-6349-4957-97e6-ef64837f2b28",
   "metadata": {
    "tags": []
   },
   "outputs": [],
   "source": [
    "def get_children(a_dir):\n",
    "    dirs = []\n",
    "    files = []\n",
    "    for name in os.listdir(a_dir):\n",
    "        if os.path.isdir(os.path.join(a_dir, name)):\n",
    "            dirs.append(name)\n",
    "        else:\n",
    "            files.append(name)\n",
    "    return [dirs,files]\n",
    "\n",
    "def create_files_table(top_level, out_file):\n",
    "    temp_comps = []\n",
    "    temp_songs = []\n",
    "    temp_paths = []\n",
    "    \n",
    "    composer_names, songs = get_children(top_level)\n",
    "\n",
    "    for composer in composer_names:\n",
    "        temp_path = top_level + '/' + composer\n",
    "        temp, songs = get_children(temp_path)\n",
    "        for song in songs:\n",
    "            if song != '.DS_Store':\n",
    "                temp_comps.append(composer)\n",
    "                temp_paths.append(temp_path + '/' + song)\n",
    "                temp_songs.append(song.split(\".\")[0])\n",
    "\n",
    "    temp_dict = {'Composers': temp_comps, 'Songs': temp_songs, 'Paths': temp_paths}\n",
    "\n",
    "    table = pd.DataFrame.from_dict(temp_dict)\n",
    "\n",
    "    table.to_csv('./' + out_file + '.csv',index=False)\n",
    "    \n",
    "    return table"
   ]
  },
  {
   "cell_type": "code",
   "execution_count": 77,
   "id": "cac8eff8-43ca-442e-a5f2-719cb1c7c2ad",
   "metadata": {
    "tags": []
   },
   "outputs": [],
   "source": [
    "devpath = './Composer_Dataset/NN_midi_files_extended/dev/'\n",
    "testpath = './Composer_Dataset/NN_midi_files_extended/test/'\n",
    "trainpath = './Composer_Dataset/NN_midi_files_extended/train/'\n",
    "\n",
    "dev_table = create_files_table(devpath, 'dev_table')\n",
    "test_table = create_files_table(testpath, 'test_table')\n",
    "train_table = create_files_table(trainpath, 'train_table')"
   ]
  },
  {
   "cell_type": "code",
   "execution_count": 74,
   "id": "3a68048a-a287-47db-a625-ca95dfe565e0",
   "metadata": {
    "tags": []
   },
   "outputs": [
    {
     "data": {
      "text/html": [
       "<div>\n",
       "<style scoped>\n",
       "    .dataframe tbody tr th:only-of-type {\n",
       "        vertical-align: middle;\n",
       "    }\n",
       "\n",
       "    .dataframe tbody tr th {\n",
       "        vertical-align: top;\n",
       "    }\n",
       "\n",
       "    .dataframe thead th {\n",
       "        text-align: right;\n",
       "    }\n",
       "</style>\n",
       "<table border=\"1\" class=\"dataframe\">\n",
       "  <thead>\n",
       "    <tr style=\"text-align: right;\">\n",
       "      <th></th>\n",
       "      <th>Composers</th>\n",
       "      <th>Songs</th>\n",
       "      <th>Paths</th>\n",
       "    </tr>\n",
       "  </thead>\n",
       "  <tbody>\n",
       "    <tr>\n",
       "      <th>0</th>\n",
       "      <td>bach</td>\n",
       "      <td>bach344</td>\n",
       "      <td>./Composer_Dataset/NN_midi_files_extended/dev/...</td>\n",
       "    </tr>\n",
       "    <tr>\n",
       "      <th>1</th>\n",
       "      <td>bach</td>\n",
       "      <td>bach348</td>\n",
       "      <td>./Composer_Dataset/NN_midi_files_extended/dev/...</td>\n",
       "    </tr>\n",
       "    <tr>\n",
       "      <th>2</th>\n",
       "      <td>bach</td>\n",
       "      <td>bach354</td>\n",
       "      <td>./Composer_Dataset/NN_midi_files_extended/dev/...</td>\n",
       "    </tr>\n",
       "    <tr>\n",
       "      <th>3</th>\n",
       "      <td>bach</td>\n",
       "      <td>bach384</td>\n",
       "      <td>./Composer_Dataset/NN_midi_files_extended/dev/...</td>\n",
       "    </tr>\n",
       "    <tr>\n",
       "      <th>4</th>\n",
       "      <td>bartok</td>\n",
       "      <td>bartok410</td>\n",
       "      <td>./Composer_Dataset/NN_midi_files_extended/dev/...</td>\n",
       "    </tr>\n",
       "  </tbody>\n",
       "</table>\n",
       "</div>"
      ],
      "text/plain": [
       "  Composers      Songs                                              Paths\n",
       "0      bach    bach344  ./Composer_Dataset/NN_midi_files_extended/dev/...\n",
       "1      bach    bach348  ./Composer_Dataset/NN_midi_files_extended/dev/...\n",
       "2      bach    bach354  ./Composer_Dataset/NN_midi_files_extended/dev/...\n",
       "3      bach    bach384  ./Composer_Dataset/NN_midi_files_extended/dev/...\n",
       "4    bartok  bartok410  ./Composer_Dataset/NN_midi_files_extended/dev/..."
      ]
     },
     "execution_count": 74,
     "metadata": {},
     "output_type": "execute_result"
    }
   ],
   "source": [
    "dev_table.head()"
   ]
  },
  {
   "cell_type": "code",
   "execution_count": null,
   "id": "f44c1e8e-a554-4ded-9d79-a5a7a2528fe5",
   "metadata": {},
   "outputs": [],
   "source": []
  }
 ],
 "metadata": {
  "kernelspec": {
   "display_name": "Python [conda env:tensorflow] *",
   "language": "python",
   "name": "conda-env-tensorflow-py"
  },
  "language_info": {
   "codemirror_mode": {
    "name": "ipython",
    "version": 3
   },
   "file_extension": ".py",
   "mimetype": "text/x-python",
   "name": "python",
   "nbconvert_exporter": "python",
   "pygments_lexer": "ipython3",
   "version": "3.9.16"
  }
 },
 "nbformat": 4,
 "nbformat_minor": 5
}
